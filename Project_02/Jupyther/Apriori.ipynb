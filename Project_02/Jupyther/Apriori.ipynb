{
  "nbformat": 4,
  "nbformat_minor": 0,
  "metadata": {
    "colab": {
      "provenance": []
    },
    "kernelspec": {
      "name": "python3",
      "display_name": "Python 3"
    },
    "language_info": {
      "name": "python"
    }
  },
  "cells": [
    {
      "cell_type": "markdown",
      "source": [
        "# **APRIORI - Housing Prices Dataset**\n",
        "## 1. Introdução\n",
        "O objetivo deste trabalho é aplicar o algoritmo Apriori para identificar padrões de associação no dataset de preços de casas, com o intuito de descobrir relações entre características como mobília, quartos e preço.\n",
        "\n",
        "\n",
        "**Breve Explicação do Algoritmo Apriori:**  \n",
        "O algoritmo Apriori é utilizado para minerar dados e encontrar associações entre itens em grandes datasets. Ele encontra conjuntos de itens que aparecem frequentemente juntos e gera regras que indicam como um item pode estar relacionado a outros.\n",
        "\n",
        "\n",
        "## 2. Dataset Utilizado\n",
        "O dataset utilizado é o **Housing Prices Dataset**, que contém informações sobre casas como número de quartos, área e condições de mobília.\n"
      ],
      "metadata": {
        "id": "89XTUcgXvVn5"
      }
    },
    {
      "cell_type": "markdown",
      "source": [
        "#Importação das Bibliotecas\n"
      ],
      "metadata": {
        "id": "NRRa-sQl-OZd"
      }
    },
    {
      "cell_type": "code",
      "execution_count": 6,
      "metadata": {
        "id": "rxGBreJP22sY"
      },
      "outputs": [],
      "source": [
        "# Bibliotecas principais para manipulação e análise de dados\n",
        "import pandas as pd  # Para carregar e manipular datasets\n",
        "import numpy as np   # Para operações numéricas e arrays\n",
        "\n",
        "# Bibliotecas para visualização\n",
        "import matplotlib.pyplot as plt  # Para criar gráficos\n",
        "import seaborn as sns            # Para visualizações mais avançadas\n",
        "\n",
        "# Configuração de visualizações\n",
        "plt.style.use('ggplot')  # Estilo dos gráficos\n",
        "sns.set_theme()          # Tema padrão para gráficos do Seaborn\n",
        "\n",
        "import kagglehub\n",
        "\n"
      ]
    },
    {
      "cell_type": "markdown",
      "source": [
        "#Carregamento e Exibição do Dataset\n",
        "Neste código, o dataset é baixado diretamente do Kaggle e descompactado para facilitar o acesso. Após o download, o arquivo CSV é lido e carregado em um DataFrame do Pandas, que é a estrutura de dados utilizada para manipulação e análise das informações.\n",
        "\n",
        "###O código a seguir mostra o processo de importação do dataset:"
      ],
      "metadata": {
        "id": "PwDn6f7-wc1E"
      }
    },
    {
      "cell_type": "code",
      "source": [
        "dataset_path = \"yasserh/housing-prices-dataset\"\n",
        "!kaggle datasets download {dataset_path} -p /content/ --unzip\n",
        "\n",
        "df_file = pd.read_csv('Housing.csv')\n",
        "df_data = pd.DataFrame(df_file)\n",
        "\n",
        "df_data.head()\n"
      ],
      "metadata": {
        "colab": {
          "base_uri": "https://localhost:8080/",
          "height": 301
        },
        "id": "S9APhP2e-eA_",
        "outputId": "186e61fc-1304-4b4c-f8c0-98cf14217e5d"
      },
      "execution_count": 9,
      "outputs": [
        {
          "output_type": "stream",
          "name": "stdout",
          "text": [
            "Dataset URL: https://www.kaggle.com/datasets/yasserh/housing-prices-dataset\n",
            "License(s): CC0-1.0\n",
            "Downloading housing-prices-dataset.zip to /content\n",
            "  0% 0.00/4.63k [00:00<?, ?B/s]\n",
            "100% 4.63k/4.63k [00:00<00:00, 9.47MB/s]\n"
          ]
        },
        {
          "output_type": "execute_result",
          "data": {
            "text/plain": [
              "      price  area  bedrooms  bathrooms  stories mainroad guestroom basement  \\\n",
              "0  13300000  7420         4          2        3      yes        no       no   \n",
              "1  12250000  8960         4          4        4      yes        no       no   \n",
              "2  12250000  9960         3          2        2      yes        no      yes   \n",
              "3  12215000  7500         4          2        2      yes        no      yes   \n",
              "4  11410000  7420         4          1        2      yes       yes      yes   \n",
              "\n",
              "  hotwaterheating airconditioning  parking prefarea furnishingstatus  \n",
              "0              no             yes        2      yes        furnished  \n",
              "1              no             yes        3       no        furnished  \n",
              "2              no              no        2      yes   semi-furnished  \n",
              "3              no             yes        3      yes        furnished  \n",
              "4              no             yes        2       no        furnished  "
            ],
            "text/html": [
              "\n",
              "  <div id=\"df-5a183b35-db4c-4e2b-aa60-14d64a4d3240\" class=\"colab-df-container\">\n",
              "    <div>\n",
              "<style scoped>\n",
              "    .dataframe tbody tr th:only-of-type {\n",
              "        vertical-align: middle;\n",
              "    }\n",
              "\n",
              "    .dataframe tbody tr th {\n",
              "        vertical-align: top;\n",
              "    }\n",
              "\n",
              "    .dataframe thead th {\n",
              "        text-align: right;\n",
              "    }\n",
              "</style>\n",
              "<table border=\"1\" class=\"dataframe\">\n",
              "  <thead>\n",
              "    <tr style=\"text-align: right;\">\n",
              "      <th></th>\n",
              "      <th>price</th>\n",
              "      <th>area</th>\n",
              "      <th>bedrooms</th>\n",
              "      <th>bathrooms</th>\n",
              "      <th>stories</th>\n",
              "      <th>mainroad</th>\n",
              "      <th>guestroom</th>\n",
              "      <th>basement</th>\n",
              "      <th>hotwaterheating</th>\n",
              "      <th>airconditioning</th>\n",
              "      <th>parking</th>\n",
              "      <th>prefarea</th>\n",
              "      <th>furnishingstatus</th>\n",
              "    </tr>\n",
              "  </thead>\n",
              "  <tbody>\n",
              "    <tr>\n",
              "      <th>0</th>\n",
              "      <td>13300000</td>\n",
              "      <td>7420</td>\n",
              "      <td>4</td>\n",
              "      <td>2</td>\n",
              "      <td>3</td>\n",
              "      <td>yes</td>\n",
              "      <td>no</td>\n",
              "      <td>no</td>\n",
              "      <td>no</td>\n",
              "      <td>yes</td>\n",
              "      <td>2</td>\n",
              "      <td>yes</td>\n",
              "      <td>furnished</td>\n",
              "    </tr>\n",
              "    <tr>\n",
              "      <th>1</th>\n",
              "      <td>12250000</td>\n",
              "      <td>8960</td>\n",
              "      <td>4</td>\n",
              "      <td>4</td>\n",
              "      <td>4</td>\n",
              "      <td>yes</td>\n",
              "      <td>no</td>\n",
              "      <td>no</td>\n",
              "      <td>no</td>\n",
              "      <td>yes</td>\n",
              "      <td>3</td>\n",
              "      <td>no</td>\n",
              "      <td>furnished</td>\n",
              "    </tr>\n",
              "    <tr>\n",
              "      <th>2</th>\n",
              "      <td>12250000</td>\n",
              "      <td>9960</td>\n",
              "      <td>3</td>\n",
              "      <td>2</td>\n",
              "      <td>2</td>\n",
              "      <td>yes</td>\n",
              "      <td>no</td>\n",
              "      <td>yes</td>\n",
              "      <td>no</td>\n",
              "      <td>no</td>\n",
              "      <td>2</td>\n",
              "      <td>yes</td>\n",
              "      <td>semi-furnished</td>\n",
              "    </tr>\n",
              "    <tr>\n",
              "      <th>3</th>\n",
              "      <td>12215000</td>\n",
              "      <td>7500</td>\n",
              "      <td>4</td>\n",
              "      <td>2</td>\n",
              "      <td>2</td>\n",
              "      <td>yes</td>\n",
              "      <td>no</td>\n",
              "      <td>yes</td>\n",
              "      <td>no</td>\n",
              "      <td>yes</td>\n",
              "      <td>3</td>\n",
              "      <td>yes</td>\n",
              "      <td>furnished</td>\n",
              "    </tr>\n",
              "    <tr>\n",
              "      <th>4</th>\n",
              "      <td>11410000</td>\n",
              "      <td>7420</td>\n",
              "      <td>4</td>\n",
              "      <td>1</td>\n",
              "      <td>2</td>\n",
              "      <td>yes</td>\n",
              "      <td>yes</td>\n",
              "      <td>yes</td>\n",
              "      <td>no</td>\n",
              "      <td>yes</td>\n",
              "      <td>2</td>\n",
              "      <td>no</td>\n",
              "      <td>furnished</td>\n",
              "    </tr>\n",
              "  </tbody>\n",
              "</table>\n",
              "</div>\n",
              "    <div class=\"colab-df-buttons\">\n",
              "\n",
              "  <div class=\"colab-df-container\">\n",
              "    <button class=\"colab-df-convert\" onclick=\"convertToInteractive('df-5a183b35-db4c-4e2b-aa60-14d64a4d3240')\"\n",
              "            title=\"Convert this dataframe to an interactive table.\"\n",
              "            style=\"display:none;\">\n",
              "\n",
              "  <svg xmlns=\"http://www.w3.org/2000/svg\" height=\"24px\" viewBox=\"0 -960 960 960\">\n",
              "    <path d=\"M120-120v-720h720v720H120Zm60-500h600v-160H180v160Zm220 220h160v-160H400v160Zm0 220h160v-160H400v160ZM180-400h160v-160H180v160Zm440 0h160v-160H620v160ZM180-180h160v-160H180v160Zm440 0h160v-160H620v160Z\"/>\n",
              "  </svg>\n",
              "    </button>\n",
              "\n",
              "  <style>\n",
              "    .colab-df-container {\n",
              "      display:flex;\n",
              "      gap: 12px;\n",
              "    }\n",
              "\n",
              "    .colab-df-convert {\n",
              "      background-color: #E8F0FE;\n",
              "      border: none;\n",
              "      border-radius: 50%;\n",
              "      cursor: pointer;\n",
              "      display: none;\n",
              "      fill: #1967D2;\n",
              "      height: 32px;\n",
              "      padding: 0 0 0 0;\n",
              "      width: 32px;\n",
              "    }\n",
              "\n",
              "    .colab-df-convert:hover {\n",
              "      background-color: #E2EBFA;\n",
              "      box-shadow: 0px 1px 2px rgba(60, 64, 67, 0.3), 0px 1px 3px 1px rgba(60, 64, 67, 0.15);\n",
              "      fill: #174EA6;\n",
              "    }\n",
              "\n",
              "    .colab-df-buttons div {\n",
              "      margin-bottom: 4px;\n",
              "    }\n",
              "\n",
              "    [theme=dark] .colab-df-convert {\n",
              "      background-color: #3B4455;\n",
              "      fill: #D2E3FC;\n",
              "    }\n",
              "\n",
              "    [theme=dark] .colab-df-convert:hover {\n",
              "      background-color: #434B5C;\n",
              "      box-shadow: 0px 1px 3px 1px rgba(0, 0, 0, 0.15);\n",
              "      filter: drop-shadow(0px 1px 2px rgba(0, 0, 0, 0.3));\n",
              "      fill: #FFFFFF;\n",
              "    }\n",
              "  </style>\n",
              "\n",
              "    <script>\n",
              "      const buttonEl =\n",
              "        document.querySelector('#df-5a183b35-db4c-4e2b-aa60-14d64a4d3240 button.colab-df-convert');\n",
              "      buttonEl.style.display =\n",
              "        google.colab.kernel.accessAllowed ? 'block' : 'none';\n",
              "\n",
              "      async function convertToInteractive(key) {\n",
              "        const element = document.querySelector('#df-5a183b35-db4c-4e2b-aa60-14d64a4d3240');\n",
              "        const dataTable =\n",
              "          await google.colab.kernel.invokeFunction('convertToInteractive',\n",
              "                                                    [key], {});\n",
              "        if (!dataTable) return;\n",
              "\n",
              "        const docLinkHtml = 'Like what you see? Visit the ' +\n",
              "          '<a target=\"_blank\" href=https://colab.research.google.com/notebooks/data_table.ipynb>data table notebook</a>'\n",
              "          + ' to learn more about interactive tables.';\n",
              "        element.innerHTML = '';\n",
              "        dataTable['output_type'] = 'display_data';\n",
              "        await google.colab.output.renderOutput(dataTable, element);\n",
              "        const docLink = document.createElement('div');\n",
              "        docLink.innerHTML = docLinkHtml;\n",
              "        element.appendChild(docLink);\n",
              "      }\n",
              "    </script>\n",
              "  </div>\n",
              "\n",
              "\n",
              "<div id=\"df-92b8886f-e083-46c1-b292-1e3bd70fa92f\">\n",
              "  <button class=\"colab-df-quickchart\" onclick=\"quickchart('df-92b8886f-e083-46c1-b292-1e3bd70fa92f')\"\n",
              "            title=\"Suggest charts\"\n",
              "            style=\"display:none;\">\n",
              "\n",
              "<svg xmlns=\"http://www.w3.org/2000/svg\" height=\"24px\"viewBox=\"0 0 24 24\"\n",
              "     width=\"24px\">\n",
              "    <g>\n",
              "        <path d=\"M19 3H5c-1.1 0-2 .9-2 2v14c0 1.1.9 2 2 2h14c1.1 0 2-.9 2-2V5c0-1.1-.9-2-2-2zM9 17H7v-7h2v7zm4 0h-2V7h2v10zm4 0h-2v-4h2v4z\"/>\n",
              "    </g>\n",
              "</svg>\n",
              "  </button>\n",
              "\n",
              "<style>\n",
              "  .colab-df-quickchart {\n",
              "      --bg-color: #E8F0FE;\n",
              "      --fill-color: #1967D2;\n",
              "      --hover-bg-color: #E2EBFA;\n",
              "      --hover-fill-color: #174EA6;\n",
              "      --disabled-fill-color: #AAA;\n",
              "      --disabled-bg-color: #DDD;\n",
              "  }\n",
              "\n",
              "  [theme=dark] .colab-df-quickchart {\n",
              "      --bg-color: #3B4455;\n",
              "      --fill-color: #D2E3FC;\n",
              "      --hover-bg-color: #434B5C;\n",
              "      --hover-fill-color: #FFFFFF;\n",
              "      --disabled-bg-color: #3B4455;\n",
              "      --disabled-fill-color: #666;\n",
              "  }\n",
              "\n",
              "  .colab-df-quickchart {\n",
              "    background-color: var(--bg-color);\n",
              "    border: none;\n",
              "    border-radius: 50%;\n",
              "    cursor: pointer;\n",
              "    display: none;\n",
              "    fill: var(--fill-color);\n",
              "    height: 32px;\n",
              "    padding: 0;\n",
              "    width: 32px;\n",
              "  }\n",
              "\n",
              "  .colab-df-quickchart:hover {\n",
              "    background-color: var(--hover-bg-color);\n",
              "    box-shadow: 0 1px 2px rgba(60, 64, 67, 0.3), 0 1px 3px 1px rgba(60, 64, 67, 0.15);\n",
              "    fill: var(--button-hover-fill-color);\n",
              "  }\n",
              "\n",
              "  .colab-df-quickchart-complete:disabled,\n",
              "  .colab-df-quickchart-complete:disabled:hover {\n",
              "    background-color: var(--disabled-bg-color);\n",
              "    fill: var(--disabled-fill-color);\n",
              "    box-shadow: none;\n",
              "  }\n",
              "\n",
              "  .colab-df-spinner {\n",
              "    border: 2px solid var(--fill-color);\n",
              "    border-color: transparent;\n",
              "    border-bottom-color: var(--fill-color);\n",
              "    animation:\n",
              "      spin 1s steps(1) infinite;\n",
              "  }\n",
              "\n",
              "  @keyframes spin {\n",
              "    0% {\n",
              "      border-color: transparent;\n",
              "      border-bottom-color: var(--fill-color);\n",
              "      border-left-color: var(--fill-color);\n",
              "    }\n",
              "    20% {\n",
              "      border-color: transparent;\n",
              "      border-left-color: var(--fill-color);\n",
              "      border-top-color: var(--fill-color);\n",
              "    }\n",
              "    30% {\n",
              "      border-color: transparent;\n",
              "      border-left-color: var(--fill-color);\n",
              "      border-top-color: var(--fill-color);\n",
              "      border-right-color: var(--fill-color);\n",
              "    }\n",
              "    40% {\n",
              "      border-color: transparent;\n",
              "      border-right-color: var(--fill-color);\n",
              "      border-top-color: var(--fill-color);\n",
              "    }\n",
              "    60% {\n",
              "      border-color: transparent;\n",
              "      border-right-color: var(--fill-color);\n",
              "    }\n",
              "    80% {\n",
              "      border-color: transparent;\n",
              "      border-right-color: var(--fill-color);\n",
              "      border-bottom-color: var(--fill-color);\n",
              "    }\n",
              "    90% {\n",
              "      border-color: transparent;\n",
              "      border-bottom-color: var(--fill-color);\n",
              "    }\n",
              "  }\n",
              "</style>\n",
              "\n",
              "  <script>\n",
              "    async function quickchart(key) {\n",
              "      const quickchartButtonEl =\n",
              "        document.querySelector('#' + key + ' button');\n",
              "      quickchartButtonEl.disabled = true;  // To prevent multiple clicks.\n",
              "      quickchartButtonEl.classList.add('colab-df-spinner');\n",
              "      try {\n",
              "        const charts = await google.colab.kernel.invokeFunction(\n",
              "            'suggestCharts', [key], {});\n",
              "      } catch (error) {\n",
              "        console.error('Error during call to suggestCharts:', error);\n",
              "      }\n",
              "      quickchartButtonEl.classList.remove('colab-df-spinner');\n",
              "      quickchartButtonEl.classList.add('colab-df-quickchart-complete');\n",
              "    }\n",
              "    (() => {\n",
              "      let quickchartButtonEl =\n",
              "        document.querySelector('#df-92b8886f-e083-46c1-b292-1e3bd70fa92f button');\n",
              "      quickchartButtonEl.style.display =\n",
              "        google.colab.kernel.accessAllowed ? 'block' : 'none';\n",
              "    })();\n",
              "  </script>\n",
              "</div>\n",
              "\n",
              "    </div>\n",
              "  </div>\n"
            ],
            "application/vnd.google.colaboratory.intrinsic+json": {
              "type": "dataframe",
              "variable_name": "df_data",
              "summary": "{\n  \"name\": \"df_data\",\n  \"rows\": 545,\n  \"fields\": [\n    {\n      \"column\": \"price\",\n      \"properties\": {\n        \"dtype\": \"number\",\n        \"std\": 1870439,\n        \"min\": 1750000,\n        \"max\": 13300000,\n        \"num_unique_values\": 219,\n        \"samples\": [\n          3773000,\n          5285000,\n          1820000\n        ],\n        \"semantic_type\": \"\",\n        \"description\": \"\"\n      }\n    },\n    {\n      \"column\": \"area\",\n      \"properties\": {\n        \"dtype\": \"number\",\n        \"std\": 2170,\n        \"min\": 1650,\n        \"max\": 16200,\n        \"num_unique_values\": 284,\n        \"samples\": [\n          6000,\n          2684,\n          5360\n        ],\n        \"semantic_type\": \"\",\n        \"description\": \"\"\n      }\n    },\n    {\n      \"column\": \"bedrooms\",\n      \"properties\": {\n        \"dtype\": \"number\",\n        \"std\": 0,\n        \"min\": 1,\n        \"max\": 6,\n        \"num_unique_values\": 6,\n        \"samples\": [\n          4,\n          3,\n          1\n        ],\n        \"semantic_type\": \"\",\n        \"description\": \"\"\n      }\n    },\n    {\n      \"column\": \"bathrooms\",\n      \"properties\": {\n        \"dtype\": \"number\",\n        \"std\": 0,\n        \"min\": 1,\n        \"max\": 4,\n        \"num_unique_values\": 4,\n        \"samples\": [\n          4,\n          3,\n          2\n        ],\n        \"semantic_type\": \"\",\n        \"description\": \"\"\n      }\n    },\n    {\n      \"column\": \"stories\",\n      \"properties\": {\n        \"dtype\": \"number\",\n        \"std\": 0,\n        \"min\": 1,\n        \"max\": 4,\n        \"num_unique_values\": 4,\n        \"samples\": [\n          4,\n          1,\n          3\n        ],\n        \"semantic_type\": \"\",\n        \"description\": \"\"\n      }\n    },\n    {\n      \"column\": \"mainroad\",\n      \"properties\": {\n        \"dtype\": \"category\",\n        \"num_unique_values\": 2,\n        \"samples\": [\n          \"no\",\n          \"yes\"\n        ],\n        \"semantic_type\": \"\",\n        \"description\": \"\"\n      }\n    },\n    {\n      \"column\": \"guestroom\",\n      \"properties\": {\n        \"dtype\": \"category\",\n        \"num_unique_values\": 2,\n        \"samples\": [\n          \"yes\",\n          \"no\"\n        ],\n        \"semantic_type\": \"\",\n        \"description\": \"\"\n      }\n    },\n    {\n      \"column\": \"basement\",\n      \"properties\": {\n        \"dtype\": \"category\",\n        \"num_unique_values\": 2,\n        \"samples\": [\n          \"yes\",\n          \"no\"\n        ],\n        \"semantic_type\": \"\",\n        \"description\": \"\"\n      }\n    },\n    {\n      \"column\": \"hotwaterheating\",\n      \"properties\": {\n        \"dtype\": \"category\",\n        \"num_unique_values\": 2,\n        \"samples\": [\n          \"yes\",\n          \"no\"\n        ],\n        \"semantic_type\": \"\",\n        \"description\": \"\"\n      }\n    },\n    {\n      \"column\": \"airconditioning\",\n      \"properties\": {\n        \"dtype\": \"category\",\n        \"num_unique_values\": 2,\n        \"samples\": [\n          \"no\",\n          \"yes\"\n        ],\n        \"semantic_type\": \"\",\n        \"description\": \"\"\n      }\n    },\n    {\n      \"column\": \"parking\",\n      \"properties\": {\n        \"dtype\": \"number\",\n        \"std\": 0,\n        \"min\": 0,\n        \"max\": 3,\n        \"num_unique_values\": 4,\n        \"samples\": [\n          3,\n          1\n        ],\n        \"semantic_type\": \"\",\n        \"description\": \"\"\n      }\n    },\n    {\n      \"column\": \"prefarea\",\n      \"properties\": {\n        \"dtype\": \"category\",\n        \"num_unique_values\": 2,\n        \"samples\": [\n          \"no\",\n          \"yes\"\n        ],\n        \"semantic_type\": \"\",\n        \"description\": \"\"\n      }\n    },\n    {\n      \"column\": \"furnishingstatus\",\n      \"properties\": {\n        \"dtype\": \"category\",\n        \"num_unique_values\": 3,\n        \"samples\": [\n          \"furnished\",\n          \"semi-furnished\"\n        ],\n        \"semantic_type\": \"\",\n        \"description\": \"\"\n      }\n    }\n  ]\n}"
            }
          },
          "metadata": {},
          "execution_count": 9
        }
      ]
    },
    {
      "cell_type": "markdown",
      "source": [
        "\n",
        "Os dados carregados contêm informações sobre o preço das casas, área, número de quartos, número de banheiros, entre outras características. A visualização das primeiras linhas do DataFrame permite garantir que o carregamento foi feito corretamente e oferece uma visão geral das variáveis presentes no dataset."
      ],
      "metadata": {
        "id": "bav6lKZI03_n"
      }
    },
    {
      "cell_type": "markdown",
      "source": [
        "#Estrutura do Data Set\n",
        "Neste estágio, é importante entender a estrutura do dataset, ou seja, as colunas presentes e os tipos de dados de cada uma. Para isso, utilizamos um código que percorre todas as colunas e exibe o tipo de dados associado a cada uma. Isso é essencial para garantir que os dados estão corretamente formatados e preparados para as etapas subsequentes de análise e mineração.\n",
        "\n",
        "O código a seguir exibe as colunas do dataset e os tipos de dados:"
      ],
      "metadata": {
        "id": "FZJIKIzCCqBE"
      }
    },
    {
      "cell_type": "code",
      "source": [
        "# Exibir as colunas e seus tipos de dados\n",
        "for column in df_data.columns:\n",
        "    print(f\"{column}: {df_data[column].dtype}\")\n"
      ],
      "metadata": {
        "colab": {
          "base_uri": "https://localhost:8080/"
        },
        "id": "cCJwoh7TCxIr",
        "outputId": "04b26344-0858-4137-8006-ea2acd9262df"
      },
      "execution_count": 58,
      "outputs": [
        {
          "output_type": "stream",
          "name": "stdout",
          "text": [
            "price: int64\n",
            "area: int64\n",
            "bedrooms: int64\n",
            "bathrooms: int64\n",
            "stories: int64\n",
            "mainroad: object\n",
            "guestroom: object\n",
            "basement: object\n",
            "hotwaterheating: object\n",
            "airconditioning: object\n",
            "parking: int64\n",
            "prefarea: object\n",
            "furnishingstatus: object\n"
          ]
        },
        {
          "output_type": "stream",
          "name": "stderr",
          "text": [
            "/usr/local/lib/python3.10/dist-packages/ipykernel/ipkernel.py:283: DeprecationWarning: `should_run_async` will not call `transform_cell` automatically in the future. Please pass the result to `transformed_cell` argument and any exception that happen during thetransform in `preprocessing_exc_tuple` in IPython 7.17 and above.\n",
            "  and should_run_async(code)\n"
          ]
        }
      ]
    },
    {
      "cell_type": "markdown",
      "source": [
        "Após a execução do código, é possível verificar os tipos de dados atribuídos a cada coluna do dataset. Isso ajuda a identificar possíveis ajustes necessários, como a conversão de colunas categóricas em variáveis numéricas ou a verificação de inconsistências."
      ],
      "metadata": {
        "id": "igS1Vd-H1pyS"
      }
    },
    {
      "cell_type": "markdown",
      "source": [
        "#3.Verificações"
      ],
      "metadata": {
        "id": "S3vnBUIcCbWm"
      }
    },
    {
      "cell_type": "markdown",
      "source": [
        "#Verificar Nulos\n",
        "Uma das etapas importantes no processo de preparação dos dados é verificar a presença de valores nulos. Valores ausentes podem afetar a análise, por isso é fundamental verificar a quantidade de nulos em cada coluna. O código abaixo verifica o número total de valores nulos por coluna e exibe as colunas que possuem valores ausentes."
      ],
      "metadata": {
        "id": "7JefVL89D2zK"
      }
    },
    {
      "cell_type": "code",
      "source": [
        "# Verificar a quantidade de valores nulos em cada coluna\n",
        "print(df_data.isnull().sum())\n",
        "\n",
        "# Exibir as colunas que possuem valores nulos (opcional)\n",
        "print(\"\\nColunas com valores nulos:\")\n",
        "print(df_data.columns[df_data.isnull().any()])"
      ],
      "metadata": {
        "colab": {
          "base_uri": "https://localhost:8080/"
        },
        "id": "j_s4USPjEJxT",
        "outputId": "9a02d20a-e5b9-4833-e784-95c9561abae8"
      },
      "execution_count": 12,
      "outputs": [
        {
          "output_type": "stream",
          "name": "stdout",
          "text": [
            "price               0\n",
            "area                0\n",
            "bedrooms            0\n",
            "bathrooms           0\n",
            "stories             0\n",
            "mainroad            0\n",
            "guestroom           0\n",
            "basement            0\n",
            "hotwaterheating     0\n",
            "airconditioning     0\n",
            "parking             0\n",
            "prefarea            0\n",
            "furnishingstatus    0\n",
            "dtype: int64\n",
            "\n",
            "Colunas com valores nulos:\n",
            "Index([], dtype='object')\n"
          ]
        }
      ]
    },
    {
      "cell_type": "markdown",
      "source": [
        "Ao rodar o código, foi verificado que nenhuma das colunas contém valores nulos. Isso é uma boa notícia, pois significa que o dataset está completo e pode ser utilizado sem a necessidade de tratamento de dados ausentes."
      ],
      "metadata": {
        "id": "yKYBbGnE2V8d"
      }
    },
    {
      "cell_type": "markdown",
      "source": [
        "#Verificar Duplicados\n",
        "Após verificar os valores nulos, o próximo passo é garantir que não existem dados duplicados no dataset. Linhas duplicadas podem afetar os resultados da análise, portanto, é importante identificar e, caso necessário, remover"
      ],
      "metadata": {
        "id": "9eiMqL0wFMCs"
      }
    },
    {
      "cell_type": "code",
      "source": [
        "# Verificar a quantidade de linhas duplicadas no DataFrame\n",
        "print(f\"Número de linhas duplicadas: {df_data.duplicated().sum()}\")\n"
      ],
      "metadata": {
        "colab": {
          "base_uri": "https://localhost:8080/"
        },
        "id": "IgfzdDfZFPvU",
        "outputId": "63b03749-d9aa-44c8-8f19-95cd8f9f2092"
      },
      "execution_count": 13,
      "outputs": [
        {
          "output_type": "stream",
          "name": "stdout",
          "text": [
            "Número de linhas duplicadas: 0\n"
          ]
        }
      ]
    },
    {
      "cell_type": "markdown",
      "source": [
        "Ao rodar o código, o resultado mostrou que não há nenhuma linha duplicada no dataset, pois o número de linhas duplicadas é zero. Isso significa que o dataset está livre de duplicações e, portanto, pronto para as próximas etapas de análise, sem a necessidade de remover registros duplicados."
      ],
      "metadata": {
        "id": "1mIt6jyY2qEK"
      }
    },
    {
      "cell_type": "markdown",
      "source": [
        "#Verificação de valores negativos\n",
        "Verificar se há valores negativos nas colunas numéricas é essencial, pois esses valores podem não ser válidos, dependendo do contexto do dataset. Por exemplo, no caso de preços de imóveis, valores negativos podem ser um erro nos dados. Portanto, o código a seguir foi utilizado para identificar se existem valores negativos nas colunas numéricas do dataset:"
      ],
      "metadata": {
        "id": "wIbp6wfoFkSM"
      }
    },
    {
      "cell_type": "code",
      "source": [
        "# Verificar valores negativos em cada coluna numérica\n",
        "for column in df_data.select_dtypes(include=[np.number]).columns:\n",
        "    negative_count = (df_data[column] < 0).sum()\n",
        "    if negative_count > 0:\n",
        "        print(f\"A coluna '{column}' tem {negative_count} valor(es) negativo(s).\")\n",
        "    else:\n",
        "        print(f\"A coluna '{column}' não tem valores negativos.\")\n"
      ],
      "metadata": {
        "colab": {
          "base_uri": "https://localhost:8080/"
        },
        "id": "ucvqvse9F0j4",
        "outputId": "374007dd-20bd-42c6-e396-2447cfd241c4"
      },
      "execution_count": 14,
      "outputs": [
        {
          "output_type": "stream",
          "name": "stdout",
          "text": [
            "A coluna 'price' não tem valores negativos.\n",
            "A coluna 'area' não tem valores negativos.\n",
            "A coluna 'bedrooms' não tem valores negativos.\n",
            "A coluna 'bathrooms' não tem valores negativos.\n",
            "A coluna 'stories' não tem valores negativos.\n",
            "A coluna 'parking' não tem valores negativos.\n"
          ]
        }
      ]
    },
    {
      "cell_type": "markdown",
      "source": [
        "O resultado da execução do código revelou que nenhuma das colunas numéricas do dataset contém valores negativos. Isso significa que os dados estão consistentes quanto a esse aspecto, e não há valores inválidos que precisem ser corrigidos."
      ],
      "metadata": {
        "id": "HyuvLtV_3GMJ"
      }
    },
    {
      "cell_type": "markdown",
      "source": [
        "#4.Graficos"
      ],
      "metadata": {
        "id": "OGcd1yznCtyu"
      }
    },
    {
      "cell_type": "markdown",
      "source": [
        " # Gráfico de Barras para Quantidade de Quartos\n",
        "\n",
        " Este gráfico foi gerado utilizando o seaborn para visualizar a distribuição da quantidade de quartos presentes nas casas do dataset.\n"
      ],
      "metadata": {
        "id": "5d1j22z9LW56"
      }
    },
    {
      "cell_type": "code",
      "source": [
        "sns.countplot(data=df_data, x='bedrooms', palette='viridis')\n",
        "plt.title('Distribuição de Quantidade de Quartos')\n",
        "plt.xlabel('Número de Quartos')\n",
        "plt.ylabel('Frequência')\n",
        "plt.show()\n"
      ],
      "metadata": {
        "colab": {
          "base_uri": "https://localhost:8080/",
          "height": 574
        },
        "id": "rQcBHYTrMoSl",
        "outputId": "e7e25745-f747-4c17-e75a-dfd22c8a3d1f"
      },
      "execution_count": 20,
      "outputs": [
        {
          "output_type": "stream",
          "name": "stderr",
          "text": [
            "<ipython-input-20-12a618a99855>:1: FutureWarning: \n",
            "\n",
            "Passing `palette` without assigning `hue` is deprecated and will be removed in v0.14.0. Assign the `x` variable to `hue` and set `legend=False` for the same effect.\n",
            "\n",
            "  sns.countplot(data=df_data, x='bedrooms', palette='viridis')\n"
          ]
        },
        {
          "output_type": "display_data",
          "data": {
            "text/plain": [
              "<Figure size 640x480 with 1 Axes>"
            ],
            "image/png": "[encoded data removed]"
          },
          "metadata": {}
        }
      ]
    },
    {
      "cell_type": "markdown",
      "source": [
        "O gráfico mostra que o número de casas com 3 quartos é predominantemente mais alto, seguido por 2 e 4 quartos. Casas com 1, 5 ou 6 quartos aparecem em menor quantidade, indicando que a maioria das casas no dataset segue um padrão de 3 quartos."
      ],
      "metadata": {
        "id": "DfoYnk_63dji"
      }
    },
    {
      "cell_type": "markdown",
      "source": [
        "#Gráfico de Dispersão entre Área e Preço\n",
        "Este gráfico de dispersão foi criado para mostrar a relação entre a área de uma casa (em metros quadrados) e o seu preço. O gráfico ajuda a visualizar como o preço das casas tende a variar com base no tamanho da propriedade."
      ],
      "metadata": {
        "id": "mjLK4oWJMyl-"
      }
    },
    {
      "cell_type": "code",
      "source": [
        "plt.scatter(df_data['area'], df_data['price'], alpha=0.6, color='blue')\n",
        "plt.title('Relação entre Área e Preço')\n",
        "plt.xlabel('Área (em m²)')\n",
        "plt.ylabel('Preço')\n",
        "plt.show()\n"
      ],
      "metadata": {
        "colab": {
          "base_uri": "https://localhost:8080/",
          "height": 483
        },
        "id": "OZlXl0wxM0dg",
        "outputId": "3dd1b0e7-1f73-4ef1-9380-27d4837cb0c4"
      },
      "execution_count": 21,
      "outputs": [
        {
          "output_type": "display_data",
          "data": {
            "text/plain": [
              "<Figure size 640x480 with 1 Axes>"
            ],
            "image/png": "[encoded data removed]"
          },
          "metadata": {}
        }
      ]
    },
    {
      "cell_type": "markdown",
      "source": [
        "Mostra a correlação entre o tamanho da casa e o preço, podendo indicar se casas maiores têm preços mais altos."
      ],
      "metadata": {
        "id": "5XCPRf5GOApV"
      }
    },
    {
      "cell_type": "markdown",
      "source": [
        "É possível observar que, de forma geral, as casas com maior área tendem a ter preços mais altos, embora haja algumas exceções. As casas menores possuem preços variados, enquanto as casas com áreas maiores frequentemente estão associadas a preços mais elevados."
      ],
      "metadata": {
        "id": "Gt3eo9Dj37PS"
      }
    },
    {
      "cell_type": "markdown",
      "source": [
        "#5.Apriori"
      ],
      "metadata": {
        "id": "w0h-Oh_fDYU_"
      }
    },
    {
      "cell_type": "markdown",
      "source": [
        "#Transformar Dados em Formato Transacional:\n",
        "O algoritmo Apriori trabalha com transações (listas de itens), o que significa que os dados devem ser convertidos para esse formato. Este código mostra como transformar dados categóricos em transações, facilitando o uso do Apriori."
      ],
      "metadata": {
        "id": "VBMQ_FqSOBoM"
      }
    },
    {
      "cell_type": "code",
      "source": [
        "from mlxtend.preprocessing import TransactionEncoder\n",
        "\n",
        "# Transformar colunas categóricas no formato de transações\n",
        "transactions = df_data[['furnishingstatus', 'guestroom', 'mainroad', 'basement']].values.tolist()\n",
        "transactions = [[str(item) for item in transaction] for transaction in transactions]  # Garantir strings\n",
        "\n",
        "te = TransactionEncoder()\n",
        "te_array = te.fit_transform(transactions)\n",
        "df_te = pd.DataFrame(te_array, columns=te.columns_)"
      ],
      "metadata": {
        "colab": {
          "base_uri": "https://localhost:8080/"
        },
        "id": "9UXcgAjNQj_N",
        "outputId": "9bf1c003-5da4-487a-a209-f468455550d6"
      },
      "execution_count": 45,
      "outputs": [
        {
          "output_type": "stream",
          "name": "stderr",
          "text": [
            "/usr/local/lib/python3.10/dist-packages/ipykernel/ipkernel.py:283: DeprecationWarning: `should_run_async` will not call `transform_cell` automatically in the future. Please pass the result to `transformed_cell` argument and any exception that happen during thetransform in `preprocessing_exc_tuple` in IPython 7.17 and above.\n",
            "  and should_run_async(code)\n"
          ]
        }
      ]
    },
    {
      "cell_type": "markdown",
      "source": [
        "#O que representa cada dado:\n",
        "###Furnishingstatus:\n",
        "\n",
        "Esta coluna representa o status de mobiliário da casa, ou seja, se a casa está mobiliada, semi-mobiliada ou não mobiliada. Ela descreve a quantidade de móveis e utensílios fornecidos no imóvel.\n",
        "###Guestroom:\n",
        "\n",
        "Esta coluna indica se a casa possui um quarto de hóspedes ou não. Um valor de \"yes\" ou \"no\" indica se o imóvel tem um quarto dedicado para hóspedes.\n",
        "###Mainroad:\n",
        "\n",
        "A coluna mainroad informa se a casa está localizada perto de uma rua principal ou não. Um valor de \"yes\" ou \"no\" indica se a propriedade está próxima a uma via de grande circulação.\n",
        "###Basement:\n",
        "\n",
        "A coluna basement descreve a presença de um porão na casa. Um valor \"yes\" ou \"no\" indica se o imóvel tem ou não um porão, o que pode afetar o valor da propriedade e sua utilização.\n",
        "\n",
        "#Por que foram escolhidos esses dados:\n",
        "Esses dados foram selecionados porque são características relevantes para a análise de padrões no setor imobiliário, principalmente no que diz respeito ao preço das propriedades. Cada uma dessas características pode influenciar o valor de uma casa de diferentes maneiras."
      ],
      "metadata": {
        "id": "jH_Kmymr4QdC"
      }
    },
    {
      "cell_type": "markdown",
      "source": [
        "#Aplicar o Algoritmo Apriori\n",
        "Agora que os dados estão formatados corretamente, o algoritmo Apriori é utilizado para encontrar combinações de itens que aparecem frequentemente, com base no suporte mínimo. O suporte mínimo é uma métrica que define a frequência mínima com que um conjunto de itens deve aparecer no conjunto de dados para ser considerado relevante. Neste caso, o suporte mínimo foi definido como 0.1 (10%), o que significa que só serão considerados os itemsets (combinações de itens) que aparecem em pelo menos 10% das transações."
      ],
      "metadata": {
        "id": "QoAb51jkQwbU"
      }
    },
    {
      "cell_type": "code",
      "source": [
        "from mlxtend.frequent_patterns import apriori\n",
        "\n",
        "# Encontrar conjuntos frequentes com suporte mínimo de 0.1 (ajustável)\n",
        "frequent_itemsets = apriori(df_te, min_support=0.1, use_colnames=True)\n",
        "print(frequent_itemsets)\n"
      ],
      "metadata": {
        "colab": {
          "base_uri": "https://localhost:8080/"
        },
        "id": "Bat7lDBLRDMF",
        "outputId": "1dfa4327-a0ae-41fc-9adb-0c3e39f75fd4"
      },
      "execution_count": 59,
      "outputs": [
        {
          "output_type": "stream",
          "name": "stdout",
          "text": [
            "     support                   itemsets\n",
            "0   0.256881                (furnished)\n",
            "1   0.878899                       (no)\n",
            "2   0.416514           (semi-furnished)\n",
            "3   0.326606              (unfurnished)\n",
            "4   0.904587                      (yes)\n",
            "5   0.214679            (furnished, no)\n",
            "6   0.244037           (furnished, yes)\n",
            "7   0.365138       (no, semi-furnished)\n",
            "8   0.299083          (unfurnished, no)\n",
            "9   0.783486                  (no, yes)\n",
            "10  0.385321      (yes, semi-furnished)\n",
            "11  0.275229         (unfurnished, yes)\n",
            "12  0.201835       (furnished, no, yes)\n",
            "13  0.333945  (yes, no, semi-furnished)\n",
            "14  0.247706     (unfurnished, no, yes)\n"
          ]
        },
        {
          "output_type": "stream",
          "name": "stderr",
          "text": [
            "/usr/local/lib/python3.10/dist-packages/ipykernel/ipkernel.py:283: DeprecationWarning: `should_run_async` will not call `transform_cell` automatically in the future. Please pass the result to `transformed_cell` argument and any exception that happen during thetransform in `preprocessing_exc_tuple` in IPython 7.17 and above.\n",
            "  and should_run_async(code)\n"
          ]
        }
      ]
    },
    {
      "cell_type": "markdown",
      "source": [
        "O suporte e os itemsets representam as combinações de itens e a frequência com que essas combinações aparecem no conjunto de dados.\n",
        "\n",
        "Suporte: Reflete a proporção de transações (ou registros) no dataset que contêm aquele conjunto de itens. Exemplo: Para o conjunto (semi-furnished), o suporte é 0.416514, o que significa que aproximadamente 41.65% das transações têm a característica \"semi-mobilado\".\n",
        "\n",
        "Itemsets: Representa os itens que aparecem frequentemente juntos. Exemplo: (furnished, yes) indica que \"mobilado\" e \"sim\" aparecem juntos em 24.4% das transações."
      ],
      "metadata": {
        "id": "qEEkNl_y6_uY"
      }
    },
    {
      "cell_type": "markdown",
      "source": [
        "#Exibindo os Primeiros Conjuntos Frequentes"
      ],
      "metadata": {
        "id": "q04PehPB71K8"
      }
    },
    {
      "cell_type": "code",
      "source": [
        "print(frequent_itemsets.head())\n"
      ],
      "metadata": {
        "colab": {
          "base_uri": "https://localhost:8080/"
        },
        "id": "wZ4SsvwLSJIP",
        "outputId": "e6d25b7d-fbd9-488e-c544-7cf226aa76c9"
      },
      "execution_count": 25,
      "outputs": [
        {
          "output_type": "stream",
          "name": "stdout",
          "text": [
            "    support          itemsets\n",
            "0  0.256881       (furnished)\n",
            "1  0.878899              (no)\n",
            "2  0.416514  (semi-furnished)\n",
            "3  0.326606     (unfurnished)\n",
            "4  0.904587             (yes)\n"
          ]
        },
        {
          "output_type": "stream",
          "name": "stderr",
          "text": [
            "/usr/local/lib/python3.10/dist-packages/ipykernel/ipkernel.py:283: DeprecationWarning: `should_run_async` will not call `transform_cell` automatically in the future. Please pass the result to `transformed_cell` argument and any exception that happen during thetransform in `preprocessing_exc_tuple` in IPython 7.17 and above.\n",
            "  and should_run_async(code)\n"
          ]
        }
      ]
    },
    {
      "cell_type": "markdown",
      "source": [
        "#Gráfico para visualizar os suportes dos conjuntos frequentes"
      ],
      "metadata": {
        "id": "57by_Ly-TY5T"
      }
    },
    {
      "cell_type": "markdown",
      "source": [
        "Gráfico para ilustrar os suportes dos conjuntos frequentes identificados pelo algoritmo Apriori."
      ],
      "metadata": {
        "id": "rDloXdkR8cwY"
      }
    },
    {
      "cell_type": "code",
      "source": [
        "frequent_itemsets.plot(kind='bar', x='itemsets', y='support', figsize=(10, 6), color='skyblue')\n",
        "plt.title('Suporte dos Conjuntos Frequentes')\n",
        "plt.xlabel('Conjuntos de Itens')\n",
        "plt.ylabel('Suporte')\n",
        "plt.xticks(rotation=45)\n",
        "plt.show()\n",
        "\n"
      ],
      "metadata": {
        "colab": {
          "base_uri": "https://localhost:8080/",
          "height": 741
        },
        "id": "zL5rYuH2TYp9",
        "outputId": "9ecb8e97-a245-4a84-c616-bac3226328b4"
      },
      "execution_count": 29,
      "outputs": [
        {
          "output_type": "stream",
          "name": "stderr",
          "text": [
            "/usr/local/lib/python3.10/dist-packages/ipykernel/ipkernel.py:283: DeprecationWarning: `should_run_async` will not call `transform_cell` automatically in the future. Please pass the result to `transformed_cell` argument and any exception that happen during thetransform in `preprocessing_exc_tuple` in IPython 7.17 and above.\n",
            "  and should_run_async(code)\n"
          ]
        },
        {
          "output_type": "display_data",
          "data": {
            "text/plain": [
              "<Figure size 1000x600 with 1 Axes>"
            ],
            "image/png": "[encoded data removed]"
          },
          "metadata": {}
        }
      ]
    },
    {
      "cell_type": "markdown",
      "source": [
        "#Gerar Regras de Associação"
      ],
      "metadata": {
        "id": "_iLpXkRiVpU-"
      }
    },
    {
      "cell_type": "markdown",
      "source": [
        "Após aplicar o algoritmo Apriori para encontrar os conjuntos de itens mais frequentes, geramos as regras de associação para entender melhor como os itens estão relacionados entre si. Essas regras são formadas por dois componentes: os antecedentes (itens que antecedem a regra) e os consequentes (itens que são consequência da presença dos antecedentes).\n",
        "\n",
        "No caso específico deste trabalho, utilizamos a métrica Lift para gerar as regras. O Lift ajuda a medir a força de uma regra, indicando o quanto a presença de um item aumenta a probabilidade de outro item ocorrer, comparado à sua ocorrência aleatória. Um Lift maior que 1 indica uma associação positiva, ou seja, quando um item está presente, a probabilidade do outro item também ser encontrado é maior do que se fosse aleatório.\n",
        "\n",
        "Além disso, com o parâmetro min_threshold (limiar mínimo), podemos filtrar as regras, selecionando apenas aquelas que atendem a um critério mínimo de força (neste caso, baseado no Lift).\n",
        "\n",
        "Após a geração das regras, é possível visualizar as regras mais fortes (com maior Lift) e analisar como os diferentes itens estão relacionados dentro do dataset."
      ],
      "metadata": {
        "id": "Cpashbbz-0wu"
      }
    },
    {
      "cell_type": "code",
      "source": [
        "from mlxtend.frequent_patterns import association_rules\n",
        "\n",
        "# Adicionar a coluna 'length' (número de itens no conjunto)\n",
        "frequent_itemsets['length'] = frequent_itemsets['itemsets'].apply(lambda x: len(x))\n",
        "\n",
        "# Calcular o número total de itemsets\n",
        "num_itemsets = len(frequent_itemsets)\n",
        "\n",
        "# Gerar regras de associação com base no lift\n",
        "rules = association_rules(frequent_itemsets, metric=\"lift\", min_threshold=1.0, num_itemsets=num_itemsets)\n",
        "\n",
        "# Exibir as primeiras regras geradas\n",
        "print(rules.head())\n",
        "\n",
        "# Visualizar regras mais fortes (com maior lift)\n",
        "top_rules = rules.sort_values(by='lift', ascending=False)\n",
        "print(top_rules.head(10))\n"
      ],
      "metadata": {
        "colab": {
          "base_uri": "https://localhost:8080/"
        },
        "id": "fKLCaesyacEO",
        "outputId": "aa70310f-f62a-4b80-e6d6-b8b7a56bc207"
      },
      "execution_count": 51,
      "outputs": [
        {
          "output_type": "stream",
          "name": "stdout",
          "text": [
            "     antecedents       consequents  antecedent support  consequent support  \\\n",
            "0    (furnished)             (yes)            0.256881            0.904587   \n",
            "1          (yes)       (furnished)            0.904587            0.256881   \n",
            "2  (unfurnished)              (no)            0.326606            0.878899   \n",
            "3           (no)     (unfurnished)            0.878899            0.326606   \n",
            "4          (yes)  (semi-furnished)            0.904587            0.416514   \n",
            "\n",
            "    support  confidence      lift  representativity  leverage  conviction  \\\n",
            "0  0.244037    0.950000  1.050203               1.0  0.011666    1.908257   \n",
            "1  0.244037    0.269777  1.050203               1.0  0.011666    1.017661   \n",
            "2  0.299083    0.915730  1.041906               1.0  0.012029    1.437064   \n",
            "3  0.299083    0.340292  1.041906               1.0  0.012029    1.020747   \n",
            "4  0.385321    0.425963  1.022688               1.0  0.008548    1.016462   \n",
            "\n",
            "   zhangs_metric   jaccard  certainty  kulczynski  \n",
            "0       0.064327  0.266000   0.475962    0.609888  \n",
            "1       0.501012  0.266000   0.017354    0.609888  \n",
            "2       0.059728  0.329960   0.304137    0.628011  \n",
            "3       0.332125  0.329960   0.020325    0.628011  \n",
            "4       0.232509  0.411765   0.016195    0.675537  \n",
            "           antecedents         consequents  antecedent support  \\\n",
            "0          (furnished)               (yes)            0.256881   \n",
            "1                (yes)         (furnished)            0.904587   \n",
            "2        (unfurnished)                (no)            0.326606   \n",
            "3                 (no)       (unfurnished)            0.878899   \n",
            "6      (furnished, no)               (yes)            0.214679   \n",
            "9                (yes)     (furnished, no)            0.904587   \n",
            "14  (unfurnished, yes)                (no)            0.275229   \n",
            "15                (no)  (unfurnished, yes)            0.878899   \n",
            "10           (no, yes)    (semi-furnished)            0.783486   \n",
            "13    (semi-furnished)           (no, yes)            0.416514   \n",
            "\n",
            "    consequent support   support  confidence      lift  representativity  \\\n",
            "0             0.904587  0.244037    0.950000  1.050203               1.0   \n",
            "1             0.256881  0.244037    0.269777  1.050203               1.0   \n",
            "2             0.878899  0.299083    0.915730  1.041906               1.0   \n",
            "3             0.326606  0.299083    0.340292  1.041906               1.0   \n",
            "6             0.904587  0.201835    0.940171  1.039337               1.0   \n",
            "9             0.214679  0.201835    0.223124  1.039337               1.0   \n",
            "14            0.878899  0.247706    0.900000  1.024008               1.0   \n",
            "15            0.275229  0.247706    0.281837  1.024008               1.0   \n",
            "10            0.416514  0.333945    0.426230  1.023326               1.0   \n",
            "13            0.783486  0.333945    0.801762  1.023326               1.0   \n",
            "\n",
            "    leverage  conviction  zhangs_metric   jaccard  certainty  kulczynski  \n",
            "0   0.011666    1.908257       0.064327  0.266000   0.475962    0.609888  \n",
            "1   0.011666    1.017661       0.501012  0.266000   0.017354    0.609888  \n",
            "2   0.012029    1.437064       0.059728  0.329960   0.304137    0.628011  \n",
            "3   0.012029    1.020747       0.332125  0.329960   0.020325    0.628011  \n",
            "6   0.007639    1.594758       0.048195  0.220000   0.372945    0.581647  \n",
            "9   0.007639    1.010870       0.396678  0.220000   0.010753    0.581647  \n",
            "14  0.005808    1.211009       0.032349  0.273279   0.174242    0.590919  \n",
            "15  0.005808    1.009201       0.193603  0.273279   0.009117    0.590919  \n",
            "10  0.007612    1.016933       0.105280  0.385593   0.016651    0.613996  \n",
            "13  0.007612    1.092192       0.039066  0.385593   0.084410    0.613996  \n"
          ]
        },
        {
          "output_type": "stream",
          "name": "stderr",
          "text": [
            "/usr/local/lib/python3.10/dist-packages/ipykernel/ipkernel.py:283: DeprecationWarning: `should_run_async` will not call `transform_cell` automatically in the future. Please pass the result to `transformed_cell` argument and any exception that happen during thetransform in `preprocessing_exc_tuple` in IPython 7.17 and above.\n",
            "  and should_run_async(code)\n"
          ]
        }
      ]
    },
    {
      "cell_type": "markdown",
      "source": [
        "#Dados Formatados"
      ],
      "metadata": {
        "id": "X1dl1RRQtUxV"
      }
    },
    {
      "cell_type": "code",
      "source": [
        "import pandas as pd\n",
        "\n",
        "# Exemplo de DataFrame com os dados fornecidos (só para exemplificação)\n",
        "data = {\n",
        "    'antecedents': ['(furnished)', '(yes)', '(unfurnished)', '(no)', '(yes)', '(furnished, no)', '(unfurnished, yes)', '(no, yes)', '(semi-furnished)', '(semi-furnished)'],\n",
        "    'consequents': ['(yes)', '(furnished)', '(no)', '(unfurnished)', '(semi-furnished)', '(yes)', '(no)', '(semi-furnished)', '(no, yes)', '(no, yes)'],\n",
        "    'antecedent support': [0.256881, 0.904587, 0.326606, 0.878899, 0.904587, 0.214679, 0.275229, 0.783486, 0.416514, 0.416514],\n",
        "    'consequent support': [0.904587, 0.256881, 0.878899, 0.326606, 0.416514, 0.904587, 0.878899, 0.416514, 0.783486, 0.783486],\n",
        "    'support': [0.244037, 0.244037, 0.299083, 0.299083, 0.385321, 0.201835, 0.247706, 0.201835, 0.333945, 0.333945],\n",
        "    'confidence': [0.950000, 0.269777, 0.915730, 0.340292, 0.425963, 0.940171, 0.900000, 0.940171, 0.426230, 0.801762],\n",
        "    'lift': [1.050203, 1.050203, 1.041906, 1.041906, 1.022688, 1.039337, 1.024008, 1.039337, 1.023326, 1.023326],\n",
        "    'leverage': [0.011666, 0.011666, 0.012029, 0.012029, 0.008548, 0.007639, 0.005808, 0.007639, 0.016651, 0.016651],\n",
        "    'conviction': [1.908257, 1.017661, 1.437064, 1.020747, 1.016462, 1.594758, 1.211009, 1.010870, 1.016933, 1.092192]\n",
        "}\n",
        "\n",
        "# Criar DataFrame\n",
        "df = pd.DataFrame(data)\n",
        "\n",
        "# Aplicar formatação numérica sem cores\n",
        "df_styled = df.style.format({\n",
        "    'support': '{:.2f}',\n",
        "    'confidence': '{:.2f}',\n",
        "    'lift': '{:.2f}',\n",
        "    'leverage': '{:.4f}',\n",
        "    'conviction': '{:.4f}'\n",
        "}).set_caption(\"Regras de Associação (sem cores)\")\n",
        "\n",
        "# Exibir a tabela estilizada\n",
        "df_styled\n",
        "\n"
      ],
      "metadata": {
        "colab": {
          "base_uri": "https://localhost:8080/",
          "height": 418
        },
        "id": "YxuApBnntUFy",
        "outputId": "97711c2a-081b-4342-ebd8-1eb2577525ae"
      },
      "execution_count": 54,
      "outputs": [
        {
          "output_type": "stream",
          "name": "stderr",
          "text": [
            "/usr/local/lib/python3.10/dist-packages/ipykernel/ipkernel.py:283: DeprecationWarning: `should_run_async` will not call `transform_cell` automatically in the future. Please pass the result to `transformed_cell` argument and any exception that happen during thetransform in `preprocessing_exc_tuple` in IPython 7.17 and above.\n",
            "  and should_run_async(code)\n"
          ]
        },
        {
          "output_type": "execute_result",
          "data": {
            "text/plain": [
              "<pandas.io.formats.style.Styler at 0x7afa0a4f46a0>"
            ],
            "text/html": [
              "<style type=\"text/css\">\n",
              "</style>\n",
              "<table id=\"T_94256\" class=\"dataframe\">\n",
              "  <caption>Regras de Associação (sem cores)</caption>\n",
              "  <thead>\n",
              "    <tr>\n",
              "      <th class=\"blank level0\" >&nbsp;</th>\n",
              "      <th id=\"T_94256_level0_col0\" class=\"col_heading level0 col0\" >antecedents</th>\n",
              "      <th id=\"T_94256_level0_col1\" class=\"col_heading level0 col1\" >consequents</th>\n",
              "      <th id=\"T_94256_level0_col2\" class=\"col_heading level0 col2\" >antecedent support</th>\n",
              "      <th id=\"T_94256_level0_col3\" class=\"col_heading level0 col3\" >consequent support</th>\n",
              "      <th id=\"T_94256_level0_col4\" class=\"col_heading level0 col4\" >support</th>\n",
              "      <th id=\"T_94256_level0_col5\" class=\"col_heading level0 col5\" >confidence</th>\n",
              "      <th id=\"T_94256_level0_col6\" class=\"col_heading level0 col6\" >lift</th>\n",
              "      <th id=\"T_94256_level0_col7\" class=\"col_heading level0 col7\" >leverage</th>\n",
              "      <th id=\"T_94256_level0_col8\" class=\"col_heading level0 col8\" >conviction</th>\n",
              "    </tr>\n",
              "  </thead>\n",
              "  <tbody>\n",
              "    <tr>\n",
              "      <th id=\"T_94256_level0_row0\" class=\"row_heading level0 row0\" >0</th>\n",
              "      <td id=\"T_94256_row0_col0\" class=\"data row0 col0\" >(furnished)</td>\n",
              "      <td id=\"T_94256_row0_col1\" class=\"data row0 col1\" >(yes)</td>\n",
              "      <td id=\"T_94256_row0_col2\" class=\"data row0 col2\" >0.256881</td>\n",
              "      <td id=\"T_94256_row0_col3\" class=\"data row0 col3\" >0.904587</td>\n",
              "      <td id=\"T_94256_row0_col4\" class=\"data row0 col4\" >0.24</td>\n",
              "      <td id=\"T_94256_row0_col5\" class=\"data row0 col5\" >0.95</td>\n",
              "      <td id=\"T_94256_row0_col6\" class=\"data row0 col6\" >1.05</td>\n",
              "      <td id=\"T_94256_row0_col7\" class=\"data row0 col7\" >0.0117</td>\n",
              "      <td id=\"T_94256_row0_col8\" class=\"data row0 col8\" >1.9083</td>\n",
              "    </tr>\n",
              "    <tr>\n",
              "      <th id=\"T_94256_level0_row1\" class=\"row_heading level0 row1\" >1</th>\n",
              "      <td id=\"T_94256_row1_col0\" class=\"data row1 col0\" >(yes)</td>\n",
              "      <td id=\"T_94256_row1_col1\" class=\"data row1 col1\" >(furnished)</td>\n",
              "      <td id=\"T_94256_row1_col2\" class=\"data row1 col2\" >0.904587</td>\n",
              "      <td id=\"T_94256_row1_col3\" class=\"data row1 col3\" >0.256881</td>\n",
              "      <td id=\"T_94256_row1_col4\" class=\"data row1 col4\" >0.24</td>\n",
              "      <td id=\"T_94256_row1_col5\" class=\"data row1 col5\" >0.27</td>\n",
              "      <td id=\"T_94256_row1_col6\" class=\"data row1 col6\" >1.05</td>\n",
              "      <td id=\"T_94256_row1_col7\" class=\"data row1 col7\" >0.0117</td>\n",
              "      <td id=\"T_94256_row1_col8\" class=\"data row1 col8\" >1.0177</td>\n",
              "    </tr>\n",
              "    <tr>\n",
              "      <th id=\"T_94256_level0_row2\" class=\"row_heading level0 row2\" >2</th>\n",
              "      <td id=\"T_94256_row2_col0\" class=\"data row2 col0\" >(unfurnished)</td>\n",
              "      <td id=\"T_94256_row2_col1\" class=\"data row2 col1\" >(no)</td>\n",
              "      <td id=\"T_94256_row2_col2\" class=\"data row2 col2\" >0.326606</td>\n",
              "      <td id=\"T_94256_row2_col3\" class=\"data row2 col3\" >0.878899</td>\n",
              "      <td id=\"T_94256_row2_col4\" class=\"data row2 col4\" >0.30</td>\n",
              "      <td id=\"T_94256_row2_col5\" class=\"data row2 col5\" >0.92</td>\n",
              "      <td id=\"T_94256_row2_col6\" class=\"data row2 col6\" >1.04</td>\n",
              "      <td id=\"T_94256_row2_col7\" class=\"data row2 col7\" >0.0120</td>\n",
              "      <td id=\"T_94256_row2_col8\" class=\"data row2 col8\" >1.4371</td>\n",
              "    </tr>\n",
              "    <tr>\n",
              "      <th id=\"T_94256_level0_row3\" class=\"row_heading level0 row3\" >3</th>\n",
              "      <td id=\"T_94256_row3_col0\" class=\"data row3 col0\" >(no)</td>\n",
              "      <td id=\"T_94256_row3_col1\" class=\"data row3 col1\" >(unfurnished)</td>\n",
              "      <td id=\"T_94256_row3_col2\" class=\"data row3 col2\" >0.878899</td>\n",
              "      <td id=\"T_94256_row3_col3\" class=\"data row3 col3\" >0.326606</td>\n",
              "      <td id=\"T_94256_row3_col4\" class=\"data row3 col4\" >0.30</td>\n",
              "      <td id=\"T_94256_row3_col5\" class=\"data row3 col5\" >0.34</td>\n",
              "      <td id=\"T_94256_row3_col6\" class=\"data row3 col6\" >1.04</td>\n",
              "      <td id=\"T_94256_row3_col7\" class=\"data row3 col7\" >0.0120</td>\n",
              "      <td id=\"T_94256_row3_col8\" class=\"data row3 col8\" >1.0207</td>\n",
              "    </tr>\n",
              "    <tr>\n",
              "      <th id=\"T_94256_level0_row4\" class=\"row_heading level0 row4\" >4</th>\n",
              "      <td id=\"T_94256_row4_col0\" class=\"data row4 col0\" >(yes)</td>\n",
              "      <td id=\"T_94256_row4_col1\" class=\"data row4 col1\" >(semi-furnished)</td>\n",
              "      <td id=\"T_94256_row4_col2\" class=\"data row4 col2\" >0.904587</td>\n",
              "      <td id=\"T_94256_row4_col3\" class=\"data row4 col3\" >0.416514</td>\n",
              "      <td id=\"T_94256_row4_col4\" class=\"data row4 col4\" >0.39</td>\n",
              "      <td id=\"T_94256_row4_col5\" class=\"data row4 col5\" >0.43</td>\n",
              "      <td id=\"T_94256_row4_col6\" class=\"data row4 col6\" >1.02</td>\n",
              "      <td id=\"T_94256_row4_col7\" class=\"data row4 col7\" >0.0085</td>\n",
              "      <td id=\"T_94256_row4_col8\" class=\"data row4 col8\" >1.0165</td>\n",
              "    </tr>\n",
              "    <tr>\n",
              "      <th id=\"T_94256_level0_row5\" class=\"row_heading level0 row5\" >5</th>\n",
              "      <td id=\"T_94256_row5_col0\" class=\"data row5 col0\" >(furnished, no)</td>\n",
              "      <td id=\"T_94256_row5_col1\" class=\"data row5 col1\" >(yes)</td>\n",
              "      <td id=\"T_94256_row5_col2\" class=\"data row5 col2\" >0.214679</td>\n",
              "      <td id=\"T_94256_row5_col3\" class=\"data row5 col3\" >0.904587</td>\n",
              "      <td id=\"T_94256_row5_col4\" class=\"data row5 col4\" >0.20</td>\n",
              "      <td id=\"T_94256_row5_col5\" class=\"data row5 col5\" >0.94</td>\n",
              "      <td id=\"T_94256_row5_col6\" class=\"data row5 col6\" >1.04</td>\n",
              "      <td id=\"T_94256_row5_col7\" class=\"data row5 col7\" >0.0076</td>\n",
              "      <td id=\"T_94256_row5_col8\" class=\"data row5 col8\" >1.5948</td>\n",
              "    </tr>\n",
              "    <tr>\n",
              "      <th id=\"T_94256_level0_row6\" class=\"row_heading level0 row6\" >6</th>\n",
              "      <td id=\"T_94256_row6_col0\" class=\"data row6 col0\" >(unfurnished, yes)</td>\n",
              "      <td id=\"T_94256_row6_col1\" class=\"data row6 col1\" >(no)</td>\n",
              "      <td id=\"T_94256_row6_col2\" class=\"data row6 col2\" >0.275229</td>\n",
              "      <td id=\"T_94256_row6_col3\" class=\"data row6 col3\" >0.878899</td>\n",
              "      <td id=\"T_94256_row6_col4\" class=\"data row6 col4\" >0.25</td>\n",
              "      <td id=\"T_94256_row6_col5\" class=\"data row6 col5\" >0.90</td>\n",
              "      <td id=\"T_94256_row6_col6\" class=\"data row6 col6\" >1.02</td>\n",
              "      <td id=\"T_94256_row6_col7\" class=\"data row6 col7\" >0.0058</td>\n",
              "      <td id=\"T_94256_row6_col8\" class=\"data row6 col8\" >1.2110</td>\n",
              "    </tr>\n",
              "    <tr>\n",
              "      <th id=\"T_94256_level0_row7\" class=\"row_heading level0 row7\" >7</th>\n",
              "      <td id=\"T_94256_row7_col0\" class=\"data row7 col0\" >(no, yes)</td>\n",
              "      <td id=\"T_94256_row7_col1\" class=\"data row7 col1\" >(semi-furnished)</td>\n",
              "      <td id=\"T_94256_row7_col2\" class=\"data row7 col2\" >0.783486</td>\n",
              "      <td id=\"T_94256_row7_col3\" class=\"data row7 col3\" >0.416514</td>\n",
              "      <td id=\"T_94256_row7_col4\" class=\"data row7 col4\" >0.20</td>\n",
              "      <td id=\"T_94256_row7_col5\" class=\"data row7 col5\" >0.94</td>\n",
              "      <td id=\"T_94256_row7_col6\" class=\"data row7 col6\" >1.04</td>\n",
              "      <td id=\"T_94256_row7_col7\" class=\"data row7 col7\" >0.0076</td>\n",
              "      <td id=\"T_94256_row7_col8\" class=\"data row7 col8\" >1.0109</td>\n",
              "    </tr>\n",
              "    <tr>\n",
              "      <th id=\"T_94256_level0_row8\" class=\"row_heading level0 row8\" >8</th>\n",
              "      <td id=\"T_94256_row8_col0\" class=\"data row8 col0\" >(semi-furnished)</td>\n",
              "      <td id=\"T_94256_row8_col1\" class=\"data row8 col1\" >(no, yes)</td>\n",
              "      <td id=\"T_94256_row8_col2\" class=\"data row8 col2\" >0.416514</td>\n",
              "      <td id=\"T_94256_row8_col3\" class=\"data row8 col3\" >0.783486</td>\n",
              "      <td id=\"T_94256_row8_col4\" class=\"data row8 col4\" >0.33</td>\n",
              "      <td id=\"T_94256_row8_col5\" class=\"data row8 col5\" >0.43</td>\n",
              "      <td id=\"T_94256_row8_col6\" class=\"data row8 col6\" >1.02</td>\n",
              "      <td id=\"T_94256_row8_col7\" class=\"data row8 col7\" >0.0167</td>\n",
              "      <td id=\"T_94256_row8_col8\" class=\"data row8 col8\" >1.0169</td>\n",
              "    </tr>\n",
              "    <tr>\n",
              "      <th id=\"T_94256_level0_row9\" class=\"row_heading level0 row9\" >9</th>\n",
              "      <td id=\"T_94256_row9_col0\" class=\"data row9 col0\" >(semi-furnished)</td>\n",
              "      <td id=\"T_94256_row9_col1\" class=\"data row9 col1\" >(no, yes)</td>\n",
              "      <td id=\"T_94256_row9_col2\" class=\"data row9 col2\" >0.416514</td>\n",
              "      <td id=\"T_94256_row9_col3\" class=\"data row9 col3\" >0.783486</td>\n",
              "      <td id=\"T_94256_row9_col4\" class=\"data row9 col4\" >0.33</td>\n",
              "      <td id=\"T_94256_row9_col5\" class=\"data row9 col5\" >0.80</td>\n",
              "      <td id=\"T_94256_row9_col6\" class=\"data row9 col6\" >1.02</td>\n",
              "      <td id=\"T_94256_row9_col7\" class=\"data row9 col7\" >0.0167</td>\n",
              "      <td id=\"T_94256_row9_col8\" class=\"data row9 col8\" >1.0922</td>\n",
              "    </tr>\n",
              "  </tbody>\n",
              "</table>\n"
            ]
          },
          "metadata": {},
          "execution_count": 54
        }
      ]
    },
    {
      "cell_type": "markdown",
      "source": [
        "Esta primeira linha representa uma relação interessante entre casas mobiladas e o atributo \"yes\". O Lift de 1.05 indica uma associação moderada entre essas características, e o confidence de 0.24 mostra que, em 24% dos casos de casas mobiladas, existe a presença do atributo \"yes\"."
      ],
      "metadata": {
        "id": "EWHGGWv7_5-V"
      }
    },
    {
      "cell_type": "markdown",
      "source": [
        "#Gráfico de Dispersão: Suporte vs Confiança\n",
        "Neste gráfico, a relação entre o suporte e a confiança das regras de associação é mostrada. O eixo X representa o suporte, que indica a frequência com que um conjunto de itens aparece no conjunto de dados, enquanto o eixo Y representa a confiança, que é a probabilidade de que os consequentes de uma regra se manifestem quando os antecedentes estão presentes.\n",
        "\n",
        "A cor dos pontos no gráfico é determinada pelo lift, o qual é mostrado ao lado do gráfico, com o uso da paleta de cores viridis. O lift mede o quão forte é a associação entre os itens, e é indicado pela intensidade da cor no gráfico.\n",
        "\n",
        "Esse gráfico ajuda a visualizar a distribuição das regras com base no seu suporte, confiança e força da associação, com os valores de lift sendo representados pela variação de cor."
      ],
      "metadata": {
        "id": "lGgmzewvAJXk"
      }
    },
    {
      "cell_type": "code",
      "source": [
        "import matplotlib.pyplot as plt\n",
        "\n",
        "# Gráfico de dispersão\n",
        "plt.figure(figsize=(10, 6))\n",
        "plt.scatter(rules['support'], rules['confidence'], c=rules['lift'], cmap='viridis', alpha=0.5)\n",
        "plt.colorbar(label='Lift')\n",
        "\n",
        "plt.xlabel('Suporte')\n",
        "plt.ylabel('Confiança')\n",
        "plt.title('Regras de Associação: Suporte vs Confiança (Lift como cor)')\n",
        "plt.show()\n"
      ],
      "metadata": {
        "colab": {
          "base_uri": "https://localhost:8080/",
          "height": 611
        },
        "id": "srbHESzEuzXF",
        "outputId": "915c479a-0be8-4fc1-c5a0-856f18a0cbe2"
      },
      "execution_count": 55,
      "outputs": [
        {
          "output_type": "stream",
          "name": "stderr",
          "text": [
            "/usr/local/lib/python3.10/dist-packages/ipykernel/ipkernel.py:283: DeprecationWarning: `should_run_async` will not call `transform_cell` automatically in the future. Please pass the result to `transformed_cell` argument and any exception that happen during thetransform in `preprocessing_exc_tuple` in IPython 7.17 and above.\n",
            "  and should_run_async(code)\n"
          ]
        },
        {
          "output_type": "display_data",
          "data": {
            "text/plain": [
              "<Figure size 1000x600 with 2 Axes>"
            ],
            "image/png": "[encoded data removed]"
          },
          "metadata": {}
        }
      ]
    },
    {
      "cell_type": "markdown",
      "source": [
        "#Resumo das Melhores Regras com Maior Lift e Confiança\n",
        "Este resumo mostra as regras de associação com os maiores valores de lift e confiança.\n",
        "Com base nesses critérios, optou-se por selecionar as 10 melhores regras, considerando as associações mais significativas dentro do conjunto de dados."
      ],
      "metadata": {
        "id": "ce5i-2D_A7Hm"
      }
    },
    {
      "cell_type": "code",
      "source": [
        "# Resumo das melhores regras com maior lift e confiança\n",
        "summary = rules[['antecedents', 'consequents', 'support', 'confidence', 'lift']] \\\n",
        "    .sort_values(by='lift', ascending=False).head(10)\n",
        "\n",
        "# Exibir o resumo\n",
        "summary\n"
      ],
      "metadata": {
        "colab": {
          "base_uri": "https://localhost:8080/",
          "height": 401
        },
        "id": "SZU-YefAu8j0",
        "outputId": "75472dd9-90b7-459e-9e67-9e9d76dde30f"
      },
      "execution_count": 56,
      "outputs": [
        {
          "output_type": "stream",
          "name": "stderr",
          "text": [
            "/usr/local/lib/python3.10/dist-packages/ipykernel/ipkernel.py:283: DeprecationWarning: `should_run_async` will not call `transform_cell` automatically in the future. Please pass the result to `transformed_cell` argument and any exception that happen during thetransform in `preprocessing_exc_tuple` in IPython 7.17 and above.\n",
            "  and should_run_async(code)\n"
          ]
        },
        {
          "output_type": "execute_result",
          "data": {
            "text/plain": [
              "           antecedents         consequents   support  confidence      lift\n",
              "0          (furnished)               (yes)  0.244037    0.950000  1.050203\n",
              "1                (yes)         (furnished)  0.244037    0.269777  1.050203\n",
              "2        (unfurnished)                (no)  0.299083    0.915730  1.041906\n",
              "3                 (no)       (unfurnished)  0.299083    0.340292  1.041906\n",
              "6      (furnished, no)               (yes)  0.201835    0.940171  1.039337\n",
              "9                (yes)     (furnished, no)  0.201835    0.223124  1.039337\n",
              "14  (unfurnished, yes)                (no)  0.247706    0.900000  1.024008\n",
              "15                (no)  (unfurnished, yes)  0.247706    0.281837  1.024008\n",
              "10           (no, yes)    (semi-furnished)  0.333945    0.426230  1.023326\n",
              "13    (semi-furnished)           (no, yes)  0.333945    0.801762  1.023326"
            ],
            "text/html": [
              "\n",
              "  <div id=\"df-015c0596-6deb-4299-9e1f-7304f99ee3dc\" class=\"colab-df-container\">\n",
              "    <div>\n",
              "<style scoped>\n",
              "    .dataframe tbody tr th:only-of-type {\n",
              "        vertical-align: middle;\n",
              "    }\n",
              "\n",
              "    .dataframe tbody tr th {\n",
              "        vertical-align: top;\n",
              "    }\n",
              "\n",
              "    .dataframe thead th {\n",
              "        text-align: right;\n",
              "    }\n",
              "</style>\n",
              "<table border=\"1\" class=\"dataframe\">\n",
              "  <thead>\n",
              "    <tr style=\"text-align: right;\">\n",
              "      <th></th>\n",
              "      <th>antecedents</th>\n",
              "      <th>consequents</th>\n",
              "      <th>support</th>\n",
              "      <th>confidence</th>\n",
              "      <th>lift</th>\n",
              "    </tr>\n",
              "  </thead>\n",
              "  <tbody>\n",
              "    <tr>\n",
              "      <th>0</th>\n",
              "      <td>(furnished)</td>\n",
              "      <td>(yes)</td>\n",
              "      <td>0.244037</td>\n",
              "      <td>0.950000</td>\n",
              "      <td>1.050203</td>\n",
              "    </tr>\n",
              "    <tr>\n",
              "      <th>1</th>\n",
              "      <td>(yes)</td>\n",
              "      <td>(furnished)</td>\n",
              "      <td>0.244037</td>\n",
              "      <td>0.269777</td>\n",
              "      <td>1.050203</td>\n",
              "    </tr>\n",
              "    <tr>\n",
              "      <th>2</th>\n",
              "      <td>(unfurnished)</td>\n",
              "      <td>(no)</td>\n",
              "      <td>0.299083</td>\n",
              "      <td>0.915730</td>\n",
              "      <td>1.041906</td>\n",
              "    </tr>\n",
              "    <tr>\n",
              "      <th>3</th>\n",
              "      <td>(no)</td>\n",
              "      <td>(unfurnished)</td>\n",
              "      <td>0.299083</td>\n",
              "      <td>0.340292</td>\n",
              "      <td>1.041906</td>\n",
              "    </tr>\n",
              "    <tr>\n",
              "      <th>6</th>\n",
              "      <td>(furnished, no)</td>\n",
              "      <td>(yes)</td>\n",
              "      <td>0.201835</td>\n",
              "      <td>0.940171</td>\n",
              "      <td>1.039337</td>\n",
              "    </tr>\n",
              "    <tr>\n",
              "      <th>9</th>\n",
              "      <td>(yes)</td>\n",
              "      <td>(furnished, no)</td>\n",
              "      <td>0.201835</td>\n",
              "      <td>0.223124</td>\n",
              "      <td>1.039337</td>\n",
              "    </tr>\n",
              "    <tr>\n",
              "      <th>14</th>\n",
              "      <td>(unfurnished, yes)</td>\n",
              "      <td>(no)</td>\n",
              "      <td>0.247706</td>\n",
              "      <td>0.900000</td>\n",
              "      <td>1.024008</td>\n",
              "    </tr>\n",
              "    <tr>\n",
              "      <th>15</th>\n",
              "      <td>(no)</td>\n",
              "      <td>(unfurnished, yes)</td>\n",
              "      <td>0.247706</td>\n",
              "      <td>0.281837</td>\n",
              "      <td>1.024008</td>\n",
              "    </tr>\n",
              "    <tr>\n",
              "      <th>10</th>\n",
              "      <td>(no, yes)</td>\n",
              "      <td>(semi-furnished)</td>\n",
              "      <td>0.333945</td>\n",
              "      <td>0.426230</td>\n",
              "      <td>1.023326</td>\n",
              "    </tr>\n",
              "    <tr>\n",
              "      <th>13</th>\n",
              "      <td>(semi-furnished)</td>\n",
              "      <td>(no, yes)</td>\n",
              "      <td>0.333945</td>\n",
              "      <td>0.801762</td>\n",
              "      <td>1.023326</td>\n",
              "    </tr>\n",
              "  </tbody>\n",
              "</table>\n",
              "</div>\n",
              "    <div class=\"colab-df-buttons\">\n",
              "\n",
              "  <div class=\"colab-df-container\">\n",
              "    <button class=\"colab-df-convert\" onclick=\"convertToInteractive('df-015c0596-6deb-4299-9e1f-7304f99ee3dc')\"\n",
              "            title=\"Convert this dataframe to an interactive table.\"\n",
              "            style=\"display:none;\">\n",
              "\n",
              "  <svg xmlns=\"http://www.w3.org/2000/svg\" height=\"24px\" viewBox=\"0 -960 960 960\">\n",
              "    <path d=\"M120-120v-720h720v720H120Zm60-500h600v-160H180v160Zm220 220h160v-160H400v160Zm0 220h160v-160H400v160ZM180-400h160v-160H180v160Zm440 0h160v-160H620v160ZM180-180h160v-160H180v160Zm440 0h160v-160H620v160Z\"/>\n",
              "  </svg>\n",
              "    </button>\n",
              "\n",
              "  <style>\n",
              "    .colab-df-container {\n",
              "      display:flex;\n",
              "      gap: 12px;\n",
              "    }\n",
              "\n",
              "    .colab-df-convert {\n",
              "      background-color: #E8F0FE;\n",
              "      border: none;\n",
              "      border-radius: 50%;\n",
              "      cursor: pointer;\n",
              "      display: none;\n",
              "      fill: #1967D2;\n",
              "      height: 32px;\n",
              "      padding: 0 0 0 0;\n",
              "      width: 32px;\n",
              "    }\n",
              "\n",
              "    .colab-df-convert:hover {\n",
              "      background-color: #E2EBFA;\n",
              "      box-shadow: 0px 1px 2px rgba(60, 64, 67, 0.3), 0px 1px 3px 1px rgba(60, 64, 67, 0.15);\n",
              "      fill: #174EA6;\n",
              "    }\n",
              "\n",
              "    .colab-df-buttons div {\n",
              "      margin-bottom: 4px;\n",
              "    }\n",
              "\n",
              "    [theme=dark] .colab-df-convert {\n",
              "      background-color: #3B4455;\n",
              "      fill: #D2E3FC;\n",
              "    }\n",
              "\n",
              "    [theme=dark] .colab-df-convert:hover {\n",
              "      background-color: #434B5C;\n",
              "      box-shadow: 0px 1px 3px 1px rgba(0, 0, 0, 0.15);\n",
              "      filter: drop-shadow(0px 1px 2px rgba(0, 0, 0, 0.3));\n",
              "      fill: #FFFFFF;\n",
              "    }\n",
              "  </style>\n",
              "\n",
              "    <script>\n",
              "      const buttonEl =\n",
              "        document.querySelector('#df-015c0596-6deb-4299-9e1f-7304f99ee3dc button.colab-df-convert');\n",
              "      buttonEl.style.display =\n",
              "        google.colab.kernel.accessAllowed ? 'block' : 'none';\n",
              "\n",
              "      async function convertToInteractive(key) {\n",
              "        const element = document.querySelector('#df-015c0596-6deb-4299-9e1f-7304f99ee3dc');\n",
              "        const dataTable =\n",
              "          await google.colab.kernel.invokeFunction('convertToInteractive',\n",
              "                                                    [key], {});\n",
              "        if (!dataTable) return;\n",
              "\n",
              "        const docLinkHtml = 'Like what you see? Visit the ' +\n",
              "          '<a target=\"_blank\" href=https://colab.research.google.com/notebooks/data_table.ipynb>data table notebook</a>'\n",
              "          + ' to learn more about interactive tables.';\n",
              "        element.innerHTML = '';\n",
              "        dataTable['output_type'] = 'display_data';\n",
              "        await google.colab.output.renderOutput(dataTable, element);\n",
              "        const docLink = document.createElement('div');\n",
              "        docLink.innerHTML = docLinkHtml;\n",
              "        element.appendChild(docLink);\n",
              "      }\n",
              "    </script>\n",
              "  </div>\n",
              "\n",
              "\n",
              "<div id=\"df-2aca9379-5f0f-45d6-a14f-fb7a0c9c2d01\">\n",
              "  <button class=\"colab-df-quickchart\" onclick=\"quickchart('df-2aca9379-5f0f-45d6-a14f-fb7a0c9c2d01')\"\n",
              "            title=\"Suggest charts\"\n",
              "            style=\"display:none;\">\n",
              "\n",
              "<svg xmlns=\"http://www.w3.org/2000/svg\" height=\"24px\"viewBox=\"0 0 24 24\"\n",
              "     width=\"24px\">\n",
              "    <g>\n",
              "        <path d=\"M19 3H5c-1.1 0-2 .9-2 2v14c0 1.1.9 2 2 2h14c1.1 0 2-.9 2-2V5c0-1.1-.9-2-2-2zM9 17H7v-7h2v7zm4 0h-2V7h2v10zm4 0h-2v-4h2v4z\"/>\n",
              "    </g>\n",
              "</svg>\n",
              "  </button>\n",
              "\n",
              "<style>\n",
              "  .colab-df-quickchart {\n",
              "      --bg-color: #E8F0FE;\n",
              "      --fill-color: #1967D2;\n",
              "      --hover-bg-color: #E2EBFA;\n",
              "      --hover-fill-color: #174EA6;\n",
              "      --disabled-fill-color: #AAA;\n",
              "      --disabled-bg-color: #DDD;\n",
              "  }\n",
              "\n",
              "  [theme=dark] .colab-df-quickchart {\n",
              "      --bg-color: #3B4455;\n",
              "      --fill-color: #D2E3FC;\n",
              "      --hover-bg-color: #434B5C;\n",
              "      --hover-fill-color: #FFFFFF;\n",
              "      --disabled-bg-color: #3B4455;\n",
              "      --disabled-fill-color: #666;\n",
              "  }\n",
              "\n",
              "  .colab-df-quickchart {\n",
              "    background-color: var(--bg-color);\n",
              "    border: none;\n",
              "    border-radius: 50%;\n",
              "    cursor: pointer;\n",
              "    display: none;\n",
              "    fill: var(--fill-color);\n",
              "    height: 32px;\n",
              "    padding: 0;\n",
              "    width: 32px;\n",
              "  }\n",
              "\n",
              "  .colab-df-quickchart:hover {\n",
              "    background-color: var(--hover-bg-color);\n",
              "    box-shadow: 0 1px 2px rgba(60, 64, 67, 0.3), 0 1px 3px 1px rgba(60, 64, 67, 0.15);\n",
              "    fill: var(--button-hover-fill-color);\n",
              "  }\n",
              "\n",
              "  .colab-df-quickchart-complete:disabled,\n",
              "  .colab-df-quickchart-complete:disabled:hover {\n",
              "    background-color: var(--disabled-bg-color);\n",
              "    fill: var(--disabled-fill-color);\n",
              "    box-shadow: none;\n",
              "  }\n",
              "\n",
              "  .colab-df-spinner {\n",
              "    border: 2px solid var(--fill-color);\n",
              "    border-color: transparent;\n",
              "    border-bottom-color: var(--fill-color);\n",
              "    animation:\n",
              "      spin 1s steps(1) infinite;\n",
              "  }\n",
              "\n",
              "  @keyframes spin {\n",
              "    0% {\n",
              "      border-color: transparent;\n",
              "      border-bottom-color: var(--fill-color);\n",
              "      border-left-color: var(--fill-color);\n",
              "    }\n",
              "    20% {\n",
              "      border-color: transparent;\n",
              "      border-left-color: var(--fill-color);\n",
              "      border-top-color: var(--fill-color);\n",
              "    }\n",
              "    30% {\n",
              "      border-color: transparent;\n",
              "      border-left-color: var(--fill-color);\n",
              "      border-top-color: var(--fill-color);\n",
              "      border-right-color: var(--fill-color);\n",
              "    }\n",
              "    40% {\n",
              "      border-color: transparent;\n",
              "      border-right-color: var(--fill-color);\n",
              "      border-top-color: var(--fill-color);\n",
              "    }\n",
              "    60% {\n",
              "      border-color: transparent;\n",
              "      border-right-color: var(--fill-color);\n",
              "    }\n",
              "    80% {\n",
              "      border-color: transparent;\n",
              "      border-right-color: var(--fill-color);\n",
              "      border-bottom-color: var(--fill-color);\n",
              "    }\n",
              "    90% {\n",
              "      border-color: transparent;\n",
              "      border-bottom-color: var(--fill-color);\n",
              "    }\n",
              "  }\n",
              "</style>\n",
              "\n",
              "  <script>\n",
              "    async function quickchart(key) {\n",
              "      const quickchartButtonEl =\n",
              "        document.querySelector('#' + key + ' button');\n",
              "      quickchartButtonEl.disabled = true;  // To prevent multiple clicks.\n",
              "      quickchartButtonEl.classList.add('colab-df-spinner');\n",
              "      try {\n",
              "        const charts = await google.colab.kernel.invokeFunction(\n",
              "            'suggestCharts', [key], {});\n",
              "      } catch (error) {\n",
              "        console.error('Error during call to suggestCharts:', error);\n",
              "      }\n",
              "      quickchartButtonEl.classList.remove('colab-df-spinner');\n",
              "      quickchartButtonEl.classList.add('colab-df-quickchart-complete');\n",
              "    }\n",
              "    (() => {\n",
              "      let quickchartButtonEl =\n",
              "        document.querySelector('#df-2aca9379-5f0f-45d6-a14f-fb7a0c9c2d01 button');\n",
              "      quickchartButtonEl.style.display =\n",
              "        google.colab.kernel.accessAllowed ? 'block' : 'none';\n",
              "    })();\n",
              "  </script>\n",
              "</div>\n",
              "\n",
              "  <div id=\"id_73e8edea-753f-4357-b3a4-29dbb4f62c1a\">\n",
              "    <style>\n",
              "      .colab-df-generate {\n",
              "        background-color: #E8F0FE;\n",
              "        border: none;\n",
              "        border-radius: 50%;\n",
              "        cursor: pointer;\n",
              "        display: none;\n",
              "        fill: #1967D2;\n",
              "        height: 32px;\n",
              "        padding: 0 0 0 0;\n",
              "        width: 32px;\n",
              "      }\n",
              "\n",
              "      .colab-df-generate:hover {\n",
              "        background-color: #E2EBFA;\n",
              "        box-shadow: 0px 1px 2px rgba(60, 64, 67, 0.3), 0px 1px 3px 1px rgba(60, 64, 67, 0.15);\n",
              "        fill: #174EA6;\n",
              "      }\n",
              "\n",
              "      [theme=dark] .colab-df-generate {\n",
              "        background-color: #3B4455;\n",
              "        fill: #D2E3FC;\n",
              "      }\n",
              "\n",
              "      [theme=dark] .colab-df-generate:hover {\n",
              "        background-color: #434B5C;\n",
              "        box-shadow: 0px 1px 3px 1px rgba(0, 0, 0, 0.15);\n",
              "        filter: drop-shadow(0px 1px 2px rgba(0, 0, 0, 0.3));\n",
              "        fill: #FFFFFF;\n",
              "      }\n",
              "    </style>\n",
              "    <button class=\"colab-df-generate\" onclick=\"generateWithVariable('summary')\"\n",
              "            title=\"Generate code using this dataframe.\"\n",
              "            style=\"display:none;\">\n",
              "\n",
              "  <svg xmlns=\"http://www.w3.org/2000/svg\" height=\"24px\"viewBox=\"0 0 24 24\"\n",
              "       width=\"24px\">\n",
              "    <path d=\"M7,19H8.4L18.45,9,17,7.55,7,17.6ZM5,21V16.75L18.45,3.32a2,2,0,0,1,2.83,0l1.4,1.43a1.91,1.91,0,0,1,.58,1.4,1.91,1.91,0,0,1-.58,1.4L9.25,21ZM18.45,9,17,7.55Zm-12,3A5.31,5.31,0,0,0,4.9,8.1,5.31,5.31,0,0,0,1,6.5,5.31,5.31,0,0,0,4.9,4.9,5.31,5.31,0,0,0,6.5,1,5.31,5.31,0,0,0,8.1,4.9,5.31,5.31,0,0,0,12,6.5,5.46,5.46,0,0,0,6.5,12Z\"/>\n",
              "  </svg>\n",
              "    </button>\n",
              "    <script>\n",
              "      (() => {\n",
              "      const buttonEl =\n",
              "        document.querySelector('#id_73e8edea-753f-4357-b3a4-29dbb4f62c1a button.colab-df-generate');\n",
              "      buttonEl.style.display =\n",
              "        google.colab.kernel.accessAllowed ? 'block' : 'none';\n",
              "\n",
              "      buttonEl.onclick = () => {\n",
              "        google.colab.notebook.generateWithVariable('summary');\n",
              "      }\n",
              "      })();\n",
              "    </script>\n",
              "  </div>\n",
              "\n",
              "    </div>\n",
              "  </div>\n"
            ],
            "application/vnd.google.colaboratory.intrinsic+json": {
              "type": "dataframe",
              "variable_name": "summary",
              "summary": "{\n  \"name\": \"summary\",\n  \"rows\": 10,\n  \"fields\": [\n    {\n      \"column\": \"antecedents\",\n      \"properties\": {\n        \"dtype\": \"string\",\n        \"num_unique_values\": 8,\n        \"samples\": [\n          \"frozenset({'yes'})\",\n          \"frozenset({'unfurnished', 'yes'})\",\n          \"frozenset({'furnished'})\"\n        ],\n        \"semantic_type\": \"\",\n        \"description\": \"\"\n      }\n    },\n    {\n      \"column\": \"consequents\",\n      \"properties\": {\n        \"dtype\": \"string\",\n        \"num_unique_values\": 8,\n        \"samples\": [\n          \"frozenset({'furnished'})\",\n          \"frozenset({'unfurnished', 'yes'})\",\n          \"frozenset({'yes'})\"\n        ],\n        \"semantic_type\": \"\",\n        \"description\": \"\"\n      }\n    },\n    {\n      \"column\": \"support\",\n      \"properties\": {\n        \"dtype\": \"number\",\n        \"std\": 0.048632122851869554,\n        \"min\": 0.2018348623853211,\n        \"max\": 0.3339449541284404,\n        \"num_unique_values\": 5,\n        \"samples\": [\n          0.29908256880733947,\n          0.3339449541284404,\n          0.2018348623853211\n        ],\n        \"semantic_type\": \"\",\n        \"description\": \"\"\n      }\n    },\n    {\n      \"column\": \"confidence\",\n      \"properties\": {\n        \"dtype\": \"number\",\n        \"std\": 0.31943099247190737,\n        \"min\": 0.22312373225152132,\n        \"max\": 0.95,\n        \"num_unique_values\": 10,\n        \"samples\": [\n          0.42622950819672134,\n          0.2697768762677485,\n          0.22312373225152132\n        ],\n        \"semantic_type\": \"\",\n        \"description\": \"\"\n      }\n    },\n    {\n      \"column\": \"lift\",\n      \"properties\": {\n        \"dtype\": \"number\",\n        \"std\": 0.011074118873400865,\n        \"min\": 1.023326352278472,\n        \"max\": 1.0502028397565923,\n        \"num_unique_values\": 5,\n        \"samples\": [\n          1.0419061246510755,\n          1.023326352278472,\n          1.0393370433938385\n        ],\n        \"semantic_type\": \"\",\n        \"description\": \"\"\n      }\n    }\n  ]\n}"
            }
          },
          "metadata": {},
          "execution_count": 56
        }
      ]
    },
    {
      "cell_type": "markdown",
      "source": [
        "#6.Conclusão\n",
        "Neste trabalho, aplicamos o algoritmo Apriori para encontrar padrões de associação no dataset de preços de casas. Usando o suporte e a confiança, geramos regras que mostram como certas características, como o status de mobiliário e o tipo de quarto, estão frequentemente relacionadas entre si.\n",
        "\n"
      ],
      "metadata": {
        "id": "4eqqoGNZBted"
      }
    }
  ]
}